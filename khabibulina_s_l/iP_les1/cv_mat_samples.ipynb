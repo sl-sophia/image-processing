{
 "cells": [
  {
   "cell_type": "code",
   "execution_count": null,
   "metadata": {},
   "outputs": [],
   "source": [
    "# #include <opencv2/opencv.hpp>\n",
    "# #include <iostream>\n",
    "# #using namespace cv;\n",
    "# #using namespace std;\n",
    "import numpy as np\n",
    "import cv2\n",
    "#Mat a32(3, 3, CV_32F, Scalar(5, 9));\n",
    "a32 = np.full((3, 3,1),5,dtype=float)\n",
    "#cout << a32;\n",
    "print(a32)\n",
    "#Mat b33(2, 2, CV_32FC3, Scalar(1, 2, 3));\n",
    "b33 = np.full((2, 2,3),(1,2,3),dtype=float)\n",
    "print(b33)\n",
    "\n"
   ]
  }
 ],
 "metadata": {
  "kernelspec": {
   "display_name": "Python 3",
   "language": "python",
   "name": "python3"
  },
  "language_info": {
   "codemirror_mode": {
    "name": "ipython",
    "version": 3
   },
   "file_extension": ".py",
   "mimetype": "text/x-python",
   "name": "python",
   "nbconvert_exporter": "python",
   "pygments_lexer": "ipython3",
   "version": "3.6.3"
  }
 },
 "nbformat": 4,
 "nbformat_minor": 2
}
