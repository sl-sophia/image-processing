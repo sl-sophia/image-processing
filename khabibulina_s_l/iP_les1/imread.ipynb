{
 "cells": [
  {
   "cell_type": "code",
   "execution_count": 11,
   "metadata": {},
   "outputs": [
    {
     "name": "stdout",
     "output_type": "stream",
     "text": [
      "reading failed\n"
     ]
    }
   ],
   "source": [
    "import cv2\n",
    "import numpy as np\n",
    "image_in_name=\"color.carpet22.png\"\n",
    "image=cv2.imread(image_in_name,cv2.IMREAD_ANYDEPTH | cv2.IMREAD_ANYCOLOR)\n",
    "if type(image)!=np.ndarray:\n",
    "    print(\"reading failed\")\n",
    "else:\n",
    "    cv2.imwrite(\"out.png\",image)"
   ]
  }
 ],
 "metadata": {
  "kernelspec": {
   "display_name": "Python 3",
   "language": "python",
   "name": "python3"
  },
  "language_info": {
   "codemirror_mode": {
    "name": "ipython",
    "version": 3
   },
   "file_extension": ".py",
   "mimetype": "text/x-python",
   "name": "python",
   "nbconvert_exporter": "python",
   "pygments_lexer": "ipython3",
   "version": "3.6.3"
  }
 },
 "nbformat": 4,
 "nbformat_minor": 2
}
