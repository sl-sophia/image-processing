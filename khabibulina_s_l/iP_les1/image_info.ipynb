{
 "cells": [
  {
   "cell_type": "code",
   "execution_count": 3,
   "metadata": {},
   "outputs": [
    {
     "name": "stdout",
     "output_type": "stream",
     "text": [
      "(600, 800, 3)\n",
      "<class 'numpy.uint8'>\n"
     ]
    }
   ],
   "source": [
    "import cv2\n",
    "import numpy as np\n",
    "image_in_name=\"color.carpet2.png\"\n",
    "image=cv2.imread(image_in_name,cv2.IMREAD_ANYDEPTH | cv2.IMREAD_ANYCOLOR)\n",
    "if type(image)!=np.ndarray:\n",
    "    print(\"reading failed\")\n",
    "else:\n",
    "    shape=image.shape\n",
    "    if (len(shape)==2):\n",
    "        type_p=type(image[0][0])\n",
    "        for iRow in range(0, shape[0]): \n",
    "            for iCol in range(0, shape[1]):\n",
    "                image[iRow,iCol] = image[iRow,iCol]   \n",
    "    if (len(shape)==3):\n",
    "        type_p=type(image[0][0][0])\n",
    "        for iRow in range(0, shape[0]): \n",
    "            for iCol in range(0, shape[1]):\n",
    "                for iCan in range(0, shape[2]):\n",
    "                    image[iRow,iCol,iCan] = image[iRow,iCol,iCan]\n",
    "    print(shape)\n",
    "    print(type_p)"
   ]
  },
  {
   "cell_type": "code",
   "execution_count": null,
   "metadata": {
    "collapsed": true
   },
   "outputs": [],
   "source": []
  }
 ],
 "metadata": {
  "kernelspec": {
   "display_name": "Python 3",
   "language": "python",
   "name": "python3"
  },
  "language_info": {
   "codemirror_mode": {
    "name": "ipython",
    "version": 3
   },
   "file_extension": ".py",
   "mimetype": "text/x-python",
   "name": "python",
   "nbconvert_exporter": "python",
   "pygments_lexer": "ipython3",
   "version": "3.6.3"
  }
 },
 "nbformat": 4,
 "nbformat_minor": 2
}
