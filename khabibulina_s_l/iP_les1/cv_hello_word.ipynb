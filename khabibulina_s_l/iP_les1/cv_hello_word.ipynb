{
 "cells": [
  {
   "cell_type": "code",
   "execution_count": null,
   "metadata": {
    "collapsed": true
   },
   "outputs": [],
   "source": [
    "# #include <opencv2/opencv.hpp>\n",
    "# using namespace cv;\n",
    "import cv2\n",
    "import numpy as np\n",
    "# Mat image(Mat::zeros(800, 600, CV_8U));\n",
    "image = np.zeros((800, 600, 1), dtype=np.uint8)\n",
    "# int fontFace(FONT_HERSHEY_PLAIN);\n",
    "fontFace=cv2.FONT_HERSHEY_PLAIN\n",
    "# double fontScale(2.0);\n",
    "fontScale=2.0\n",
    "# int thickness(3);\n",
    "thickness=3\n",
    "# Point textOrg(50, 50);\n",
    "textOrg=(50, 50)\n",
    "# putText(image, \"Hello, word!\", textOrg, fontFace, fontScale, Scalar::all(255), thickness, 8);\n",
    "cv2.putText(image, \"Hello, word!\",textOrg,fontFace,fontScale,255,thickness,cv2.LINE_AA) #не знаю аналог Scalar::all(255)\n",
    "#                                                   кроме cv2.LINE_AA может быть 2,8,cv2.LINE_2,cv2.LINE_8\n",
    "# imshow(\"Hello, word! Press any key...\", image);\n",
    "cv2.imshow(\"Hello, word! Press any key...\", image)\n",
    "# waitKey(0);\n",
    "cv2.waitKey(0)\n",
    "# без этого в jupyter notebook никак\n",
    "cv2.destroyWindow(\"Hello, word! Press any key...\")"
   ]
  }
 ],
 "metadata": {
  "kernelspec": {
   "display_name": "Python 3",
   "language": "python",
   "name": "python3"
  },
  "language_info": {
   "codemirror_mode": {
    "name": "ipython",
    "version": 3
   },
   "file_extension": ".py",
   "mimetype": "text/x-python",
   "name": "python",
   "nbconvert_exporter": "python",
   "pygments_lexer": "ipython3",
   "version": "3.6.3"
  }
 },
 "nbformat": 4,
 "nbformat_minor": 2
}
