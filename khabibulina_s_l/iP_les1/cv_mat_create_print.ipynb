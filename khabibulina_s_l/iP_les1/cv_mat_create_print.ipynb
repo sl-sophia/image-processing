{
 "cells": [
  {
   "cell_type": "code",
   "execution_count": null,
   "metadata": {},
   "outputs": [],
   "source": [
    "# #include <opencv2/opencv.hpp>\n",
    "# #include <iostream>\n",
    "# #include <string>\n",
    "# using namespace cv;\n",
    "# using namespace std;\n",
    "import numpy as np\n",
    "import cv2\n",
    "#Mat m2x2(Mat::eye(2, 2, CV_8UC1));\n",
    "m2x2 = np.eye(2,2,dtype=np.uint8) #единичная матрица\n",
    "#cout << \"m1 = \" << endl << \" \" << m2x2 << endl << endl;\n",
    "print(\"m2x2 = \")\n",
    "print(m2x2)\n",
    "#Mat m3x4(Mat::ones(3, 4, CV_8UC2));\n",
    "m3x4= np.ones((3, 4,2),dtype=np.uint8)\n",
    "#cout << \"m1 = \" << endl << \" \" << m3x4 << endl << endl;\n",
    "print(\"m3x4 = \")\n",
    "print(m3x4)\n",
    "#Mat m3x2(3, 2, CV_8UC3, Scalar(0, 0, 255));\n",
    "m3x2= np.full((3, 2,3),(0,0,255),dtype=np.uint8)\n",
    "#cout << \"m2x2 = \" << endl << \" \" << m3x2 << endl << endl;\n",
    "print(\"m3x2 = \")\n",
    "print(m3x2)"
   ]
  }
 ],
 "metadata": {
  "kernelspec": {
   "display_name": "Python 3",
   "language": "python",
   "name": "python3"
  },
  "language_info": {
   "codemirror_mode": {
    "name": "ipython",
    "version": 3
   },
   "file_extension": ".py",
   "mimetype": "text/x-python",
   "name": "python",
   "nbconvert_exporter": "python",
   "pygments_lexer": "ipython3",
   "version": "3.6.3"
  }
 },
 "nbformat": 4,
 "nbformat_minor": 2
}
