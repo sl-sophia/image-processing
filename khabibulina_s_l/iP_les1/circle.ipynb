{
 "cells": [
  {
   "cell_type": "code",
   "execution_count": null,
   "metadata": {
    "collapsed": true
   },
   "outputs": [],
   "source": [
    "# #include <opencv2/opencv.hpp>\n",
    "# #include <iostream>\n",
    "# #include <string>\n",
    "# using namespace cv;\n",
    "import numpy as np\n",
    "import cv2\n",
    "#Mat image(400, 300, CV_8U, Scalar(255));\n",
    "image = np.full((400, 300, 1), 255, dtype=np.uint8)\n",
    "#circle(image, Point(20, 20), 30, Scalar(100));\n",
    "cv2.circle(image, (20, 20), 30, 100)\n",
    "#circle(image, Point(60, 20), 30, Scalar(100), 1, 4);\n",
    "cv2.circle(image, (60, 20), 30, 100,1,4) #что значит Scalar(100)?\n",
    "#circle(image, Point(40, 40), 15, Scalar(50), 4, 8);\n",
    "cv2.circle(image, (40, 40), 15, 50,4,8)\n",
    "#circle(image, Point(60, 60), 24, Scalar(0), 1, 4);\n",
    "cv2.circle(image, (60, 60), 24, 0,1,4)\n",
    "#imshow(\"cv::circle\", image);\n",
    "cv2.imshow(\"circle\", image)\n",
    "#waitKey(0);\n",
    "cv2.waitKey(0)\n",
    "#закрытие\n",
    "cv2.destroyWindow(\"circle\")"
   ]
  }
 ],
 "metadata": {
  "kernelspec": {
   "display_name": "Python 3",
   "language": "python",
   "name": "python3"
  },
  "language_info": {
   "codemirror_mode": {
    "name": "ipython",
    "version": 3
   },
   "file_extension": ".py",
   "mimetype": "text/x-python",
   "name": "python",
   "nbconvert_exporter": "python",
   "pygments_lexer": "ipython3",
   "version": "3.6.3"
  }
 },
 "nbformat": 4,
 "nbformat_minor": 2
}
