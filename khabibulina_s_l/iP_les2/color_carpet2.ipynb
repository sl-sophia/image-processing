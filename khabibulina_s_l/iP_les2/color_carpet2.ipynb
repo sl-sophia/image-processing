{
 "cells": [
  {
   "cell_type": "code",
   "execution_count": null,
   "metadata": {},
   "outputs": [],
   "source": [
    "import cv2\n",
    "import numpy as np\n",
    "import math\n",
    "image = np.full((600, 800, 3), 255, dtype=np.int16)\n",
    "shape = image.shape[0:2]\n",
    "for iCol in range(0, shape[0]): \n",
    "    for iRow in range(0, shape[1]):\n",
    "        image[iCol,iRow,2] = 1270*(math.sin(0.05*iRow)) #R\n",
    "        image[iCol,iRow,1] = 1270*(math.sin(0.01*iRow)) #G\n",
    "        image[iCol,iRow,0] = 1270*(math.sin(0.03*iRow)) #B\n",
    "cv2.imwrite(\"color.carpet2.png\", image)"
   ]
  }
 ],
 "metadata": {
  "kernelspec": {
   "display_name": "Python 3",
   "language": "python",
   "name": "python3"
  },
  "language_info": {
   "codemirror_mode": {
    "name": "ipython",
    "version": 3
   },
   "file_extension": ".py",
   "mimetype": "text/x-python",
   "name": "python",
   "nbconvert_exporter": "python",
   "pygments_lexer": "ipython3",
   "version": "3.6.3"
  }
 },
 "nbformat": 4,
 "nbformat_minor": 2
}
