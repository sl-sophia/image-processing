{
 "cells": [
  {
   "cell_type": "code",
   "execution_count": 3,
   "metadata": {},
   "outputs": [
    {
     "name": "stdout",
     "output_type": "stream",
     "text": [
      "2\n"
     ]
    }
   ],
   "source": [
    "import cv2\n",
    "import numpy as np\n",
    "import math\n",
    "image = np.full((600, 800, 1), 0, dtype=np.int8)\n",
    "shape = image.shape[0:2]\n",
    "for iRow in range(0, shape[0]): \n",
    "    for iCol in range(0, shape[1]):\n",
    "        image[iRow,iCol] = 50*(math.sin(0.03*iCol)+1)\n",
    "        #print(image[iRow,iCol])\n",
    "cv2.imwrite(\"grey.carpet.png\", image)\n",
    "#cv2.imshow(\"Hello, word! Press any key...\", image)\n",
    "#cv2.waitKey(0)\n",
    "#cv2.destroyWindow(\"Hello, word! Press any key...\")"
   ]
  },
  {
   "cell_type": "code",
   "execution_count": null,
   "metadata": {
    "collapsed": true
   },
   "outputs": [],
   "source": []
  }
 ],
 "metadata": {
  "kernelspec": {
   "display_name": "Python 3",
   "language": "python",
   "name": "python3"
  },
  "language_info": {
   "codemirror_mode": {
    "name": "ipython",
    "version": 3
   },
   "file_extension": ".py",
   "mimetype": "text/x-python",
   "name": "python",
   "nbconvert_exporter": "python",
   "pygments_lexer": "ipython3",
   "version": "3.6.3"
  }
 },
 "nbformat": 4,
 "nbformat_minor": 2
}
