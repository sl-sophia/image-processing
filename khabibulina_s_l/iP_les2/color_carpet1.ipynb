{
 "cells": [
  {
   "cell_type": "code",
   "execution_count": null,
   "metadata": {},
   "outputs": [],
   "source": [
    "import cv2\n",
    "import numpy as np\n",
    "import math\n",
    "image = np.full((600, 800, 3), 0, dtype=np.int8)\n",
    "shape = image.shape[0:2]\n",
    "for iCol in range(0, shape[0]): \n",
    "    for iRow in range(0, shape[1]):\n",
    "        image[iCol,iRow,0] = 50*(math.sin(0.03*iRow))\n",
    "for iRow in range(0, shape[1]):\n",
    "    for iCol in range(0, shape[0]):\n",
    "        image[iCol,iRow,2] = 50*(math.cos(0.03*iCol))\n",
    "cv2.imwrite(\"color.carpet.png\", image)"
   ]
  }
 ],
 "metadata": {
  "kernelspec": {
   "display_name": "Python 3",
   "language": "python",
   "name": "python3"
  },
  "language_info": {
   "codemirror_mode": {
    "name": "ipython",
    "version": 3
   },
   "file_extension": ".py",
   "mimetype": "text/x-python",
   "name": "python",
   "nbconvert_exporter": "python",
   "pygments_lexer": "ipython3",
   "version": "3.6.3"
  }
 },
 "nbformat": 4,
 "nbformat_minor": 2
}
