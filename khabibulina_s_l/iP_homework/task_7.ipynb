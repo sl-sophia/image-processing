{
 "cells": [
  {
   "cell_type": "code",
   "execution_count": 1,
   "metadata": {
    "collapsed": true
   },
   "outputs": [],
   "source": [
    "import numpy as np\n",
    "import cv2\n",
    "import matplotlib.pyplot as plt\n",
    "from __future__ import print_function\n",
    "from ipywidgets import interact, interactive, fixed, interact_manual\n",
    "import ipywidgets as widgets"
   ]
  },
  {
   "cell_type": "code",
   "execution_count": 8,
   "metadata": {
    "collapsed": true
   },
   "outputs": [],
   "source": [
    "def methood(n):\n",
    "    \n",
    "    cap = cv2.VideoCapture(\"WIN_20180426_13_47_33_Pro.mp4\")\n",
    "    frames=[]\n",
    "    for i in range(n):\n",
    "        ret, fr = cap.read()\n",
    "        fr=cv2.cvtColor(fr,cv2.COLOR_BGR2GRAY)\n",
    "        frames.append(fr)\n",
    "    frame=np.zeros_like(frames[0])\n",
    "    for i in range(frames[0].shape[0]):\n",
    "        for j in range(frames[0].shape[1]):\n",
    "            a=[]\n",
    "            for l in range(n):\n",
    "                a.append(frames[l][i][j])\n",
    "            a.sort()\n",
    "            x=a[len(a)//2]\n",
    "            frame[i][j]=x\n",
    "    plt.imshow(frames[n-1]-frame,cmap='gray')\n",
    "    plt.show()\n",
    "    plt.imshow(frames[n-1],cmap='gray')\n",
    "    plt.show()"
   ]
  },
  {
   "cell_type": "code",
   "execution_count": 9,
   "metadata": {},
   "outputs": [
    {
     "data": {
      "application/vnd.jupyter.widget-view+json": {
       "model_id": "37a43d86ebc746f09136f44676e9ec15",
       "version_major": 2,
       "version_minor": 0
      },
      "text/plain": [
       "A Jupyter Widget"
      ]
     },
     "metadata": {},
     "output_type": "display_data"
    },
    {
     "data": {
      "text/plain": [
       "<function __main__.methood>"
      ]
     },
     "execution_count": 9,
     "metadata": {},
     "output_type": "execute_result"
    }
   ],
   "source": [
    "interact(methood,n=(1,15,1))"
   ]
  },
  {
   "cell_type": "code",
   "execution_count": 13,
   "metadata": {
    "collapsed": true
   },
   "outputs": [],
   "source": [
    "def methood_aver(n):\n",
    "    \n",
    "    cap = cv2.VideoCapture(\"WIN_20180426_13_47_33_Pro.mp4\")\n",
    "    frames=[]\n",
    "    for i in range(n):\n",
    "        ret, fr = cap.read()\n",
    "        fr=cv2.cvtColor(fr,cv2.COLOR_BGR2GRAY)\n",
    "        frames.append(fr)\n",
    "    frame=np.zeros_like(frames[0])\n",
    "    for i in range(frames[0].shape[0]):\n",
    "        for j in range(frames[0].shape[1]):\n",
    "            a=[]\n",
    "            for l in range(n):\n",
    "                a.append(frames[l][i][j])\n",
    "            \n",
    "            x=int(np.mean(a))\n",
    "            frame[i][j]=x\n",
    "    plt.imshow(frames[n-1]-frame,cmap='gray')\n",
    "    plt.show()\n",
    "    plt.imshow(frames[n-1],cmap='gray')\n",
    "    plt.show()"
   ]
  },
  {
   "cell_type": "code",
   "execution_count": 14,
   "metadata": {},
   "outputs": [
    {
     "data": {
      "application/vnd.jupyter.widget-view+json": {
       "model_id": "7d9bccfbb8e344e49babe7349c30b62c",
       "version_major": 2,
       "version_minor": 0
      },
      "text/plain": [
       "A Jupyter Widget"
      ]
     },
     "metadata": {},
     "output_type": "display_data"
    },
    {
     "data": {
      "text/plain": [
       "<function __main__.methood_aver>"
      ]
     },
     "execution_count": 14,
     "metadata": {},
     "output_type": "execute_result"
    }
   ],
   "source": [
    "interact(methood_aver,n=(1,15,1))"
   ]
  },
  {
   "cell_type": "code",
   "execution_count": null,
   "metadata": {
    "collapsed": true
   },
   "outputs": [],
   "source": []
  }
 ],
 "metadata": {
  "kernelspec": {
   "display_name": "Python 3",
   "language": "python",
   "name": "python3"
  },
  "language_info": {
   "codemirror_mode": {
    "name": "ipython",
    "version": 3
   },
   "file_extension": ".py",
   "mimetype": "text/x-python",
   "name": "python",
   "nbconvert_exporter": "python",
   "pygments_lexer": "ipython3",
   "version": "3.6.3"
  }
 },
 "nbformat": 4,
 "nbformat_minor": 2
}
