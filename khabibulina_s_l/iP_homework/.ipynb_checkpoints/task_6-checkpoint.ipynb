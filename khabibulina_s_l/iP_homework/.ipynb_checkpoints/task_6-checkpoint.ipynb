{
 "cells": [
  {
   "cell_type": "code",
   "execution_count": 1,
   "metadata": {},
   "outputs": [],
   "source": [
    "import numpy as np\n",
    "import cv2\n",
    "import matplotlib.pyplot as plt\n",
    "from __future__ import print_function\n",
    "from ipywidgets import interact, interactive, fixed, interact_manual\n",
    "import ipywidgets as widgets"
   ]
  },
  {
   "cell_type": "code",
   "execution_count": 2,
   "metadata": {},
   "outputs": [],
   "source": [
    "def methood(n,pyr_scale,level,winsize,itetation,poly_n,poly_sigma):\n",
    "    \n",
    "    cap = cv2.VideoCapture(\"WIN_20180426_13_47_33_Pro.mp4\")\n",
    "    \n",
    "    for i in range(30):\n",
    "        ret, frame1 = cap.read()\n",
    "    ret, frame1 = cap.read()\n",
    "    \n",
    "    frame1 = cv2.cvtColor(frame1,cv2.COLOR_BGR2RGB)\n",
    "    plt.figure(figsize=(21,6))\n",
    "    plt.subplot(131)\n",
    "    plt.imshow(frame1)\n",
    "    prvs = cv2.cvtColor(frame1,cv2.COLOR_RGB2GRAY)\n",
    "    \n",
    "    for i in range(n):\n",
    "        ret, frame2 = cap.read()\n",
    "    ret, frame2 = cap.read()\n",
    "    frame2 = cv2.cvtColor(frame2,cv2.COLOR_BGR2RGB)\n",
    "    plt.subplot(132)\n",
    "    plt.imshow(frame2)\n",
    "    next_ = cv2.cvtColor(frame2,cv2.COLOR_RGB2GRAY)\n",
    "    \n",
    "    #flow = cv2.calcOpticalFlowFarneback(prvs,next_, None, 0.5, 1,   35, 3,   7, 1.5,   0)\n",
    "    flow = cv2.calcOpticalFlowFarneback(prvs,next_, None, pyr_scale,level,winsize,itetation,poly_n,poly_sigma,0)\n",
    "    mag, ang = cv2.cartToPolar(flow[...,0], flow[...,1])\n",
    "    \n",
    "    plt.subplot(133)\n",
    "    plt.imshow(mag)\n",
    "    plt.show()\n"
   ]
  },
  {
   "cell_type": "code",
   "execution_count": 3,
   "metadata": {},
   "outputs": [
    {
     "data": {
      "application/vnd.jupyter.widget-view+json": {
       "model_id": "0b220b342aa14325a0ffeee0472bc358",
       "version_major": 2,
       "version_minor": 0
      },
      "text/plain": [
       "A Jupyter Widget"
      ]
     },
     "metadata": {},
     "output_type": "display_data"
    },
    {
     "data": {
      "text/plain": [
       "<function __main__.methood>"
      ]
     },
     "execution_count": 3,
     "metadata": {},
     "output_type": "execute_result"
    }
   ],
   "source": [
    "interact(methood,n=(1,15,1),pyr_scale=(0.5,1,0.1),level=(1,5,1),winsize=(10,50,5),itetation=(1,10,1),poly_n=(5,7,2),poly_sigma=(1.1,1.5,0.4))"
   ]
  },
  {
   "cell_type": "code",
   "execution_count": null,
   "metadata": {
    "collapsed": true
   },
   "outputs": [],
   "source": []
  }
 ],
 "metadata": {
  "kernelspec": {
   "display_name": "Python 3",
   "language": "python",
   "name": "python3"
  },
  "language_info": {
   "codemirror_mode": {
    "name": "ipython",
    "version": 3
   },
   "file_extension": ".py",
   "mimetype": "text/x-python",
   "name": "python",
   "nbconvert_exporter": "python",
   "pygments_lexer": "ipython3",
   "version": "3.6.3"
  }
 },
 "nbformat": 4,
 "nbformat_minor": 2
}
